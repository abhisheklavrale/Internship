{
 "cells": [
  {
   "cell_type": "code",
   "execution_count": 10,
   "id": "cdbe9377",
   "metadata": {},
   "outputs": [
    {
     "name": "stdout",
     "output_type": "stream",
     "text": [
      "Enter side 1=12\n",
      "Enter side 2=12\n",
      "Enter Angle=70\n",
      "Hypotenuse= 16.97056274847714\n"
     ]
    }
   ],
   "source": [
    "# Python program to get the third side of right-angled triangle from two given sides.\n",
    "\n",
    "a= float(input(\"Enter side 1=\"))\n",
    "b= float(input(\"Enter side 2=\"))\n",
    "X= float(input('Enter Angle='))\n",
    "\n",
    "c=math.sqrt(a**2+b**2)\n",
    "print(\"Hypotenuse=\", c)"
   ]
  },
  {
   "cell_type": "code",
   "execution_count": null,
   "id": "29486b3c",
   "metadata": {},
   "outputs": [],
   "source": []
  }
 ],
 "metadata": {
  "kernelspec": {
   "display_name": "Python 3",
   "language": "python",
   "name": "python3"
  },
  "language_info": {
   "codemirror_mode": {
    "name": "ipython",
    "version": 3
   },
   "file_extension": ".py",
   "mimetype": "text/x-python",
   "name": "python",
   "nbconvert_exporter": "python",
   "pygments_lexer": "ipython3",
   "version": "3.8.8"
  }
 },
 "nbformat": 4,
 "nbformat_minor": 5
}
